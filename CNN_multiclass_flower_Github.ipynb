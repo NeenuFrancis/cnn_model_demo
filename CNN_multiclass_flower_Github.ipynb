{
  "cells": [
    {
      "cell_type": "markdown",
      "metadata": {
        "id": "3DR-eO17geWu"
      },
      "source": [
        "# Convolutional Neural Network"
      ]
    },
    {
      "cell_type": "code",
      "execution_count": null,
      "metadata": {
        "colab": {
          "base_uri": "https://localhost:8080/"
        },
        "id": "r6U6sqKu7Hfe",
        "outputId": "4b3bfd90-e7e7-4091-c404-ed99d8b4710b"
      },
      "outputs": [
        {
          "output_type": "stream",
          "name": "stdout",
          "text": [
            "Cloning into 'flowers_multiclass_CNN'...\n",
            "remote: Enumerating objects: 1151, done.\u001b[K\n",
            "remote: Counting objects: 100% (480/480), done.\u001b[K\n",
            "remote: Compressing objects: 100% (462/462), done.\u001b[K\n",
            "remote: Total 1151 (delta 32), reused 429 (delta 16), pack-reused 671\u001b[K\n",
            "Receiving objects: 100% (1151/1151), 55.05 MiB | 36.27 MiB/s, done.\n",
            "Resolving deltas: 100% (57/57), done.\n"
          ]
        }
      ],
      "source": [
        "!git clone \"https://github.com/NeenuFrancis/flowers_multiclass_CNN.git\""
      ]
    },
    {
      "cell_type": "markdown",
      "metadata": {
        "id": "EMefrVPCg-60"
      },
      "source": [
        "### Importing the libraries"
      ]
    },
    {
      "cell_type": "code",
      "execution_count": null,
      "metadata": {
        "id": "sCV30xyVhFbE"
      },
      "outputs": [],
      "source": [
        "import tensorflow as tf\n",
        "from keras.preprocessing.image import ImageDataGenerator\n"
      ]
    },
    {
      "cell_type": "code",
      "execution_count": null,
      "metadata": {
        "colab": {
          "base_uri": "https://localhost:8080/",
          "height": 35
        },
        "id": "FIleuCAjoFD8",
        "outputId": "53dd6ea1-38aa-43ce-b420-d82ed36f39fc"
      },
      "outputs": [
        {
          "output_type": "execute_result",
          "data": {
            "text/plain": [
              "'2.14.0'"
            ],
            "application/vnd.google.colaboratory.intrinsic+json": {
              "type": "string"
            }
          },
          "metadata": {},
          "execution_count": 3
        }
      ],
      "source": [
        "tf.__version__"
      ]
    },
    {
      "cell_type": "markdown",
      "metadata": {
        "id": "Go-LCQvzt56X"
      },
      "source": [
        "# **Part 1 - Data Preprocessing**\n",
        "\n"
      ]
    },
    {
      "cell_type": "markdown",
      "metadata": {
        "id": "_nN0vlOTvHLn"
      },
      "source": [
        "### Preprocessing the Training set"
      ]
    },
    {
      "cell_type": "code",
      "execution_count": null,
      "metadata": {
        "id": "YVHOAkIBQwT2"
      },
      "outputs": [],
      "source": [
        "import pandas as pd"
      ]
    },
    {
      "cell_type": "code",
      "execution_count": null,
      "metadata": {
        "colab": {
          "base_uri": "https://localhost:8080/"
        },
        "id": "5K8vBUFSt-sG",
        "outputId": "dd5ffe8c-4bc9-4b2d-853b-d4aef36e5e09"
      },
      "outputs": [
        {
          "output_type": "stream",
          "name": "stdout",
          "text": [
            "Found 500 images belonging to 5 classes.\n"
          ]
        }
      ],
      "source": [
        "from keras.preprocessing import image\n",
        "#Creating an object of ImageDataGenerator\n",
        "train_datagen = ImageDataGenerator(rescale = 1./255,\n",
        "                                   shear_range = 0.2,\n",
        "                                   zoom_range = 0.2,\n",
        "                                   horizontal_flip = True,\n",
        "                                   validation_split=0.1)\n",
        "\n",
        "#Generating batches of Augmented data\n",
        "training_set = train_datagen.flow_from_directory('/content/flowers_multiclass_CNN/data/train',\n",
        "                                                 target_size = (64, 64),\n",
        "                                                 batch_size = 32,\n",
        "                                                 class_mode = 'categorical'\n",
        "                                                 )"
      ]
    },
    {
      "cell_type": "markdown",
      "metadata": {
        "id": "-ikhQLjsvT8u"
      },
      "source": [
        "### Preprocessing the Test set"
      ]
    },
    {
      "cell_type": "code",
      "execution_count": null,
      "metadata": {
        "colab": {
          "base_uri": "https://localhost:8080/"
        },
        "id": "2c_CryLkvS1H",
        "outputId": "2ec7531b-6c44-430b-b62a-797fab0c4a14"
      },
      "outputs": [
        {
          "output_type": "stream",
          "name": "stdout",
          "text": [
            "Found 419 images belonging to 5 classes.\n"
          ]
        }
      ],
      "source": [
        "test_datagen = ImageDataGenerator(rescale = 1./255,validation_split=0.1)\n",
        "\n",
        "test_set = test_datagen.flow_from_directory('/content/flowers_multiclass_CNN/data/test',\n",
        "                                             target_size = (64, 64),\n",
        "                                                 batch_size = 32,\n",
        "                                                 class_mode = 'categorical'\n",
        "                                            )\n"
      ]
    },
    {
      "cell_type": "markdown",
      "metadata": {
        "id": "K56vilF6xdcn"
      },
      "source": [
        "# **Part 2 - Building the CNN**\n",
        "\n",
        "\n",
        "\n"
      ]
    },
    {
      "cell_type": "markdown",
      "metadata": {
        "id": "lxc2uA8Gx1Oh"
      },
      "source": [
        "### Initialising the CNN"
      ]
    },
    {
      "cell_type": "code",
      "execution_count": null,
      "metadata": {
        "id": "7wuj966mx2sB"
      },
      "outputs": [],
      "source": [
        "cnn = tf.keras.models.Sequential()"
      ]
    },
    {
      "cell_type": "markdown",
      "metadata": {
        "id": "kqoFz1J6yDB1"
      },
      "source": [
        "### Step 1 - Convolution"
      ]
    },
    {
      "cell_type": "code",
      "execution_count": null,
      "metadata": {
        "id": "YW2xKjlSyD29"
      },
      "outputs": [],
      "source": [
        "cnn.add(tf.keras.layers.Conv2D(filters=32, kernel_size=3, activation='relu',\n",
        "                               input_shape=[64, 64, 3]))\n"
      ]
    },
    {
      "cell_type": "markdown",
      "metadata": {
        "id": "aQqI04ekyI99"
      },
      "source": [
        "### Step 2 - Pooling"
      ]
    },
    {
      "cell_type": "code",
      "execution_count": null,
      "metadata": {
        "id": "jt4KfyrvyKOW"
      },
      "outputs": [],
      "source": [
        "cnn.add(tf.keras.layers.MaxPool2D(pool_size=2, strides=2))"
      ]
    },
    {
      "cell_type": "markdown",
      "metadata": {
        "id": "G1AJMfiayQkW"
      },
      "source": [
        "### Adding a second convolutional layer"
      ]
    },
    {
      "cell_type": "code",
      "execution_count": null,
      "metadata": {
        "id": "NWwL4UtvySl-"
      },
      "outputs": [],
      "source": [
        "cnn.add(tf.keras.layers.Conv2D(filters=32, kernel_size=3, activation='relu'))\n",
        "cnn.add(tf.keras.layers.MaxPool2D(pool_size=2, strides=2))"
      ]
    },
    {
      "cell_type": "markdown",
      "metadata": {
        "id": "T8LUay2eyX2V"
      },
      "source": [
        "### Step 3 - Flattening"
      ]
    },
    {
      "cell_type": "code",
      "execution_count": null,
      "metadata": {
        "id": "Rt6DoMidyYtM"
      },
      "outputs": [],
      "source": [
        "cnn.add(tf.keras.layers.Flatten())"
      ]
    },
    {
      "cell_type": "markdown",
      "metadata": {
        "id": "QV4ofYcYyezd"
      },
      "source": [
        "### Step 4 - Full Connection"
      ]
    },
    {
      "cell_type": "code",
      "execution_count": null,
      "metadata": {
        "id": "bSTx2oViybKF"
      },
      "outputs": [],
      "source": [
        "cnn.add(tf.keras.layers.Dense(units=128, activation='relu'))"
      ]
    },
    {
      "cell_type": "markdown",
      "metadata": {
        "id": "1cRM8YV_ylsl"
      },
      "source": [
        "### Step 5 - Output Layer"
      ]
    },
    {
      "cell_type": "code",
      "execution_count": null,
      "metadata": {
        "id": "FFLwj12FymeN"
      },
      "outputs": [],
      "source": [
        "cnn.add(tf.keras.layers.Dense(units=5, activation='softmax'))"
      ]
    },
    {
      "cell_type": "markdown",
      "metadata": {
        "id": "kHBcsTSSyrcl"
      },
      "source": [
        "# **Part 3 - Training the CNN**"
      ]
    },
    {
      "cell_type": "markdown",
      "metadata": {
        "id": "2BbMojc4ywzd"
      },
      "source": [
        "### Compiling the CNN"
      ]
    },
    {
      "cell_type": "code",
      "execution_count": null,
      "metadata": {
        "id": "NBZ4ugEayxuf"
      },
      "outputs": [],
      "source": [
        "cnn.compile(optimizer = 'adam', loss = 'categorical_crossentropy', metrics = ['accuracy'])\n"
      ]
    },
    {
      "cell_type": "markdown",
      "metadata": {
        "id": "utSxqtJay38m"
      },
      "source": [
        "### Training the CNN on the Training set and evaluating it on the Test set"
      ]
    },
    {
      "cell_type": "code",
      "execution_count": null,
      "metadata": {
        "colab": {
          "base_uri": "https://localhost:8080/"
        },
        "id": "ZKvF7gO33zqO",
        "outputId": "9f871966-a9af-4740-bbd2-142574084bc0"
      },
      "outputs": [
        {
          "output_type": "stream",
          "name": "stdout",
          "text": [
            "Epoch 1/25\n",
            "16/16 [==============================] - 13s 151ms/step - loss: 1.6100 - accuracy: 0.3060 - val_loss: 1.4530 - val_accuracy: 0.4105\n",
            "Epoch 2/25\n",
            "16/16 [==============================] - 2s 135ms/step - loss: 1.3649 - accuracy: 0.4200 - val_loss: 1.1428 - val_accuracy: 0.5442\n",
            "Epoch 3/25\n",
            "16/16 [==============================] - 3s 210ms/step - loss: 1.2116 - accuracy: 0.4720 - val_loss: 1.0114 - val_accuracy: 0.5561\n",
            "Epoch 4/25\n",
            "16/16 [==============================] - 2s 128ms/step - loss: 1.0927 - accuracy: 0.5540 - val_loss: 1.3494 - val_accuracy: 0.4463\n",
            "Epoch 5/25\n",
            "16/16 [==============================] - 3s 198ms/step - loss: 1.0441 - accuracy: 0.5980 - val_loss: 0.9229 - val_accuracy: 0.6539\n",
            "Epoch 6/25\n",
            "16/16 [==============================] - 2s 135ms/step - loss: 0.9588 - accuracy: 0.6420 - val_loss: 0.9553 - val_accuracy: 0.6396\n",
            "Epoch 7/25\n",
            "16/16 [==============================] - 3s 169ms/step - loss: 0.8835 - accuracy: 0.6640 - val_loss: 0.8796 - val_accuracy: 0.6706\n",
            "Epoch 8/25\n",
            "16/16 [==============================] - 3s 194ms/step - loss: 0.8400 - accuracy: 0.6520 - val_loss: 0.9493 - val_accuracy: 0.6205\n",
            "Epoch 9/25\n",
            "16/16 [==============================] - 2s 132ms/step - loss: 0.7976 - accuracy: 0.6860 - val_loss: 0.9161 - val_accuracy: 0.6372\n",
            "Epoch 10/25\n",
            "16/16 [==============================] - 2s 132ms/step - loss: 0.7616 - accuracy: 0.7260 - val_loss: 0.9574 - val_accuracy: 0.6110\n",
            "Epoch 11/25\n",
            "16/16 [==============================] - 2s 131ms/step - loss: 0.6832 - accuracy: 0.7580 - val_loss: 1.0546 - val_accuracy: 0.6205\n",
            "Epoch 12/25\n",
            "16/16 [==============================] - 2s 159ms/step - loss: 0.7016 - accuracy: 0.7360 - val_loss: 1.2683 - val_accuracy: 0.5394\n",
            "Epoch 13/25\n",
            "16/16 [==============================] - 3s 199ms/step - loss: 0.6421 - accuracy: 0.7700 - val_loss: 0.9032 - val_accuracy: 0.6897\n",
            "Epoch 14/25\n",
            "16/16 [==============================] - 2s 132ms/step - loss: 0.5991 - accuracy: 0.7800 - val_loss: 1.1920 - val_accuracy: 0.5728\n",
            "Epoch 15/25\n",
            "16/16 [==============================] - 2s 131ms/step - loss: 0.5763 - accuracy: 0.7840 - val_loss: 0.9103 - val_accuracy: 0.6587\n",
            "Epoch 16/25\n",
            "16/16 [==============================] - 2s 130ms/step - loss: 0.5627 - accuracy: 0.8040 - val_loss: 0.8974 - val_accuracy: 0.6778\n",
            "Epoch 17/25\n",
            "16/16 [==============================] - 2s 133ms/step - loss: 0.4827 - accuracy: 0.8300 - val_loss: 0.9013 - val_accuracy: 0.6874\n",
            "Epoch 18/25\n",
            "16/16 [==============================] - 5s 310ms/step - loss: 0.4553 - accuracy: 0.8380 - val_loss: 1.1255 - val_accuracy: 0.6158\n",
            "Epoch 19/25\n",
            "16/16 [==============================] - 2s 149ms/step - loss: 0.4347 - accuracy: 0.8340 - val_loss: 0.9169 - val_accuracy: 0.6969\n",
            "Epoch 20/25\n",
            "16/16 [==============================] - 2s 137ms/step - loss: 0.3945 - accuracy: 0.8620 - val_loss: 0.8816 - val_accuracy: 0.7041\n",
            "Epoch 21/25\n",
            "16/16 [==============================] - 2s 136ms/step - loss: 0.4369 - accuracy: 0.8260 - val_loss: 1.1512 - val_accuracy: 0.6277\n",
            "Epoch 22/25\n",
            "16/16 [==============================] - 2s 132ms/step - loss: 0.3714 - accuracy: 0.8760 - val_loss: 1.0238 - val_accuracy: 0.6611\n",
            "Epoch 23/25\n",
            "16/16 [==============================] - 3s 175ms/step - loss: 0.3097 - accuracy: 0.8900 - val_loss: 1.2732 - val_accuracy: 0.6086\n",
            "Epoch 24/25\n",
            "16/16 [==============================] - 2s 142ms/step - loss: 0.3500 - accuracy: 0.8620 - val_loss: 0.9949 - val_accuracy: 0.6778\n",
            "Epoch 25/25\n",
            "16/16 [==============================] - 2s 128ms/step - loss: 0.3078 - accuracy: 0.9000 - val_loss: 1.1826 - val_accuracy: 0.6468\n"
          ]
        },
        {
          "output_type": "execute_result",
          "data": {
            "text/plain": [
              "<keras.src.callbacks.History at 0x797c56558a90>"
            ]
          },
          "metadata": {},
          "execution_count": 15
        }
      ],
      "source": [
        "cnn.fit(x = training_set, validation_data = test_set, epochs = 25)"
      ]
    },
    {
      "cell_type": "code",
      "execution_count": null,
      "metadata": {
        "colab": {
          "base_uri": "https://localhost:8080/"
        },
        "id": "NMwwIWduEx18",
        "outputId": "1cd9c551-f8a4-48f9-8c4d-59aec6df270d"
      },
      "outputs": [
        {
          "output_type": "stream",
          "name": "stdout",
          "text": [
            "1/1 [==============================] - 0s 152ms/step\n",
            "[[0. 0. 0. 0. 1.]]\n",
            "{'daisy': 0, 'dandelion': 1, 'rose': 2, 'sunflower': 3, 'tulip': 4}\n"
          ]
        },
        {
          "output_type": "error",
          "ename": "NameError",
          "evalue": "ignored",
          "traceback": [
            "\u001b[0;31m---------------------------------------------------------------------------\u001b[0m",
            "\u001b[0;31mNameError\u001b[0m                                 Traceback (most recent call last)",
            "\u001b[0;32m<ipython-input-16-a70ca827bf6f>\u001b[0m in \u001b[0;36m<cell line: 16>\u001b[0;34m()\u001b[0m\n\u001b[1;32m     14\u001b[0m \u001b[0;34m\u001b[0m\u001b[0m\n\u001b[1;32m     15\u001b[0m \u001b[0;34m\u001b[0m\u001b[0m\n\u001b[0;32m---> 16\u001b[0;31m \u001b[0;32mfor\u001b[0m \u001b[0mi\u001b[0m \u001b[0;32min\u001b[0m \u001b[0mlabel\u001b[0m\u001b[0;34m:\u001b[0m\u001b[0;34m\u001b[0m\u001b[0;34m\u001b[0m\u001b[0m\n\u001b[0m\u001b[1;32m     17\u001b[0m     \u001b[0;32mif\u001b[0m \u001b[0mresult\u001b[0m\u001b[0;34m[\u001b[0m\u001b[0;36m0\u001b[0m\u001b[0;34m]\u001b[0m\u001b[0;34m[\u001b[0m\u001b[0mlabel\u001b[0m\u001b[0;34m.\u001b[0m\u001b[0mindex\u001b[0m\u001b[0;34m(\u001b[0m\u001b[0mi\u001b[0m\u001b[0;34m)\u001b[0m\u001b[0;34m]\u001b[0m\u001b[0;34m==\u001b[0m\u001b[0;36m1\u001b[0m\u001b[0;34m:\u001b[0m\u001b[0;34m\u001b[0m\u001b[0;34m\u001b[0m\u001b[0m\n\u001b[1;32m     18\u001b[0m          \u001b[0;32mbreak\u001b[0m\u001b[0;34m\u001b[0m\u001b[0;34m\u001b[0m\u001b[0m\n",
            "\u001b[0;31mNameError\u001b[0m: name 'label' is not defined"
          ]
        }
      ],
      "source": [
        "\n",
        "import numpy as np\n",
        "from keras.preprocessing import image\n",
        "\n",
        "test_image = tf.keras.utils.load_img('/content/flowers_multiclass_CNN/Predict_data/tulips.jpg',\n",
        "                                     target_size = (64, 64))\n",
        "#test_image = tf.keras.utils.load_img(test_image)\n",
        "im=test_image\n",
        "test_image = np.expand_dims(test_image, axis = 0)\n",
        "\n",
        "result = cnn.predict(test_image)\n",
        "print(result)\n",
        "\n",
        "print(training_set.class_indices)\n",
        "\n",
        "\n",
        "for i in label:\n",
        "    if result[0][label.index(i)]==1:\n",
        "         break\n",
        "\n",
        "\n",
        "\n",
        "prediction=i\n",
        "\n",
        "\n",
        "im.show()"
      ]
    },
    {
      "cell_type": "code",
      "execution_count": null,
      "metadata": {
        "id": "y35gmHWmSfi_"
      },
      "outputs": [],
      "source": [
        "print(prediction)\n",
        "\n",
        "display(im)"
      ]
    }
  ],
  "metadata": {
    "accelerator": "GPU",
    "colab": {
      "provenance": []
    },
    "kernelspec": {
      "display_name": "Python 3",
      "name": "python3"
    }
  },
  "nbformat": 4,
  "nbformat_minor": 0
}