{
  "cells": [
    {
      "cell_type": "markdown",
      "metadata": {
        "id": "3DR-eO17geWu"
      },
      "source": [
        "# Convolutional Neural Network"
      ]
    },
    {
      "cell_type": "code",
      "execution_count": null,
      "metadata": {
        "colab": {
          "base_uri": "https://localhost:8080/"
        },
        "id": "r6U6sqKu7Hfe",
        "outputId": "792fdaa1-adf2-4551-b2e2-694c77879a99"
      },
      "outputs": [
        {
          "output_type": "stream",
          "name": "stdout",
          "text": [
            "Cloning into 'apple_Vs_Orange_DataSet'...\n",
            "remote: Enumerating objects: 411, done.\u001b[K\n",
            "remote: Counting objects: 100% (143/143), done.\u001b[K\n",
            "remote: Compressing objects: 100% (139/139), done.\u001b[K\n",
            "remote: Total 411 (delta 13), reused 100 (delta 0), pack-reused 268\u001b[K\n",
            "Receiving objects: 100% (411/411), 76.88 MiB | 33.63 MiB/s, done.\n",
            "Resolving deltas: 100% (13/13), done.\n"
          ]
        }
      ],
      "source": [
        "!git clone \"https://github.com/NeenuFrancis/apple_Vs_Orange_DataSet.git\""
      ]
    },
    {
      "cell_type": "code",
      "execution_count": null,
      "metadata": {
        "colab": {
          "base_uri": "https://localhost:8080/"
        },
        "id": "rkIw46LPeGAc",
        "outputId": "06ed777f-f904-4a93-a7f9-7fe96507f8c9"
      },
      "outputs": [
        {
          "output_type": "stream",
          "name": "stdout",
          "text": [
            "fatal: destination path 'apple_Vs_Orange_DataSet' already exists and is not an empty directory.\n"
          ]
        }
      ],
      "source": [
        "\n",
        "!git clone https://github.com/NeenuFrancis/apple_Vs_Orange_DataSet\n"
      ]
    },
    {
      "cell_type": "markdown",
      "metadata": {
        "id": "EMefrVPCg-60"
      },
      "source": [
        "### Importing the libraries"
      ]
    },
    {
      "cell_type": "code",
      "execution_count": null,
      "metadata": {
        "id": "sCV30xyVhFbE"
      },
      "outputs": [],
      "source": [
        "import tensorflow as tf\n",
        "from keras.preprocessing.image import ImageDataGenerator"
      ]
    },
    {
      "cell_type": "code",
      "execution_count": null,
      "metadata": {
        "colab": {
          "base_uri": "https://localhost:8080/",
          "height": 35
        },
        "id": "FIleuCAjoFD8",
        "outputId": "86c0bc9e-b54c-4124-f1a7-aba83f7156fd"
      },
      "outputs": [
        {
          "output_type": "execute_result",
          "data": {
            "text/plain": [
              "'2.14.0'"
            ],
            "application/vnd.google.colaboratory.intrinsic+json": {
              "type": "string"
            }
          },
          "metadata": {},
          "execution_count": 4
        }
      ],
      "source": [
        "tf.__version__"
      ]
    },
    {
      "cell_type": "markdown",
      "metadata": {
        "id": "oxQxCBWyoGPE"
      },
      "source": [
        "\n",
        "\n",
        "\n",
        "## Part 1 - Data Preprocessing"
      ]
    },
    {
      "cell_type": "markdown",
      "metadata": {
        "id": "MvE-heJNo3GG"
      },
      "source": [
        "### Preprocessing the Training set"
      ]
    },
    {
      "cell_type": "code",
      "execution_count": null,
      "metadata": {
        "id": "T4ijuZxKf3Bg"
      },
      "outputs": [],
      "source": [
        "import pandas as pd"
      ]
    },
    {
      "cell_type": "code",
      "execution_count": null,
      "metadata": {
        "colab": {
          "base_uri": "https://localhost:8080/"
        },
        "id": "0koUcJMJpEBD",
        "outputId": "f2c83f48-9f81-4137-b87f-4d26d00e5b63"
      },
      "outputs": [
        {
          "output_type": "stream",
          "name": "stdout",
          "text": [
            "Found 196 images belonging to 2 classes.\n"
          ]
        }
      ],
      "source": [
        "train_datagen = ImageDataGenerator(rescale = 1./255,\n",
        "                                   shear_range = 0.2,\n",
        "                                   zoom_range = 0.2,\n",
        "                                   horizontal_flip = True)\n",
        "\n",
        "training_set = train_datagen.flow_from_directory('/content/apple_Vs_Orange_DataSet/data/train',\n",
        "                                                 target_size = (64, 64),\n",
        "                                                 batch_size = 32,\n",
        "                                                 class_mode = 'binary')\n"
      ]
    },
    {
      "cell_type": "markdown",
      "metadata": {
        "id": "mrCMmGw9pHys"
      },
      "source": [
        "### Preprocessing the Test set"
      ]
    },
    {
      "cell_type": "code",
      "execution_count": null,
      "metadata": {
        "colab": {
          "base_uri": "https://localhost:8080/"
        },
        "id": "SH4WzfOhpKc3",
        "outputId": "7cb427ba-f9d2-46c1-d3ae-0dffa0112fcd"
      },
      "outputs": [
        {
          "output_type": "stream",
          "name": "stdout",
          "text": [
            "Found 124 images belonging to 2 classes.\n"
          ]
        }
      ],
      "source": [
        "test_datagen = ImageDataGenerator(rescale = 1./255)\n",
        "test_set = test_datagen.flow_from_directory('/content/apple_Vs_Orange_DataSet/data/test',\n",
        "                                            target_size = (64, 64),\n",
        "                                            batch_size = 32,\n",
        "                                            class_mode = 'binary')"
      ]
    },
    {
      "cell_type": "markdown",
      "metadata": {
        "id": "af8O4l90gk7B"
      },
      "source": [
        "## Part 2 - Building the CNN"
      ]
    },
    {
      "cell_type": "markdown",
      "metadata": {
        "id": "ces1gXY2lmoX"
      },
      "source": [
        "### Initialising the CNN"
      ]
    },
    {
      "cell_type": "code",
      "execution_count": null,
      "metadata": {
        "id": "SAUt4UMPlhLS"
      },
      "outputs": [],
      "source": [
        "cnn = tf.keras.models.Sequential()"
      ]
    },
    {
      "cell_type": "markdown",
      "metadata": {
        "id": "u5YJj_XMl5LF"
      },
      "source": [
        "### Step 1 - Convolution"
      ]
    },
    {
      "cell_type": "code",
      "execution_count": null,
      "metadata": {
        "id": "XPzPrMckl-hV"
      },
      "outputs": [],
      "source": [
        "cnn.add(tf.keras.layers.Conv2D(filters=32, kernel_size=3, activation='relu',\n",
        "                               input_shape=[64, 64, 3]))"
      ]
    },
    {
      "cell_type": "markdown",
      "metadata": {
        "id": "tf87FpvxmNOJ"
      },
      "source": [
        "### Step 2 - Pooling"
      ]
    },
    {
      "cell_type": "code",
      "execution_count": null,
      "metadata": {
        "id": "ncpqPl69mOac"
      },
      "outputs": [],
      "source": [
        "cnn.add(tf.keras.layers.MaxPool2D(pool_size=2, strides=2))"
      ]
    },
    {
      "cell_type": "markdown",
      "metadata": {
        "id": "xaTOgD8rm4mU"
      },
      "source": [
        "### Adding a second convolutional layer"
      ]
    },
    {
      "cell_type": "code",
      "execution_count": null,
      "metadata": {
        "id": "i_-FZjn_m8gk"
      },
      "outputs": [],
      "source": [
        "cnn.add(tf.keras.layers.Conv2D(filters=32, kernel_size=3, activation='relu'))\n",
        "cnn.add(tf.keras.layers.MaxPool2D(pool_size=2, strides=2))"
      ]
    },
    {
      "cell_type": "markdown",
      "metadata": {
        "id": "tmiEuvTunKfk"
      },
      "source": [
        "### Step 3 - Flattening"
      ]
    },
    {
      "cell_type": "code",
      "execution_count": null,
      "metadata": {
        "id": "6AZeOGCvnNZn"
      },
      "outputs": [],
      "source": [
        "cnn.add(tf.keras.layers.Flatten())"
      ]
    },
    {
      "cell_type": "markdown",
      "metadata": {
        "id": "dAoSECOm203v"
      },
      "source": [
        "### Step 4 - Full Connection\n",
        "\n",
        "\n",
        "\n"
      ]
    },
    {
      "cell_type": "code",
      "execution_count": null,
      "metadata": {
        "id": "8GtmUlLd26Nq"
      },
      "outputs": [],
      "source": [
        "cnn.add(tf.keras.layers.Dense(units=128, activation='relu'))"
      ]
    },
    {
      "cell_type": "markdown",
      "metadata": {
        "id": "yTldFvbX28Na"
      },
      "source": [
        "### Step 5 - Output Layer"
      ]
    },
    {
      "cell_type": "code",
      "execution_count": null,
      "metadata": {
        "id": "1p_Zj1Mc3Ko_"
      },
      "outputs": [],
      "source": [
        "cnn.add(tf.keras.layers.Dense(units=1, activation='sigmoid'))"
      ]
    },
    {
      "cell_type": "markdown",
      "metadata": {
        "id": "D6XkI90snSDl"
      },
      "source": [
        "## Part 3 - Training the CNN"
      ]
    },
    {
      "cell_type": "markdown",
      "metadata": {
        "id": "vfrFQACEnc6i"
      },
      "source": [
        "\n",
        "\n",
        "\n",
        "\n",
        "### Compiling the CNN"
      ]
    },
    {
      "cell_type": "code",
      "execution_count": null,
      "metadata": {
        "id": "NALksrNQpUlJ"
      },
      "outputs": [],
      "source": [
        "cnn.compile(optimizer = 'adam', loss = 'binary_crossentropy', metrics = ['accuracy'])"
      ]
    },
    {
      "cell_type": "markdown",
      "metadata": {
        "id": "ehS-v3MIpX2h"
      },
      "source": [
        "### Training the CNN on the Training set and evaluating it on the Test set"
      ]
    },
    {
      "cell_type": "code",
      "execution_count": null,
      "metadata": {
        "colab": {
          "base_uri": "https://localhost:8080/"
        },
        "id": "XUj1W4PJptta",
        "outputId": "7b83384e-1d12-4637-f6f0-7b18feb164cc"
      },
      "outputs": [
        {
          "output_type": "stream",
          "name": "stdout",
          "text": [
            "Epoch 1/15\n",
            "7/7 [==============================] - 16s 324ms/step - loss: 0.7464 - accuracy: 0.4949 - val_loss: 0.6890 - val_accuracy: 0.4597\n",
            "Epoch 2/15\n",
            "7/7 [==============================] - 2s 326ms/step - loss: 0.6858 - accuracy: 0.5204 - val_loss: 0.6567 - val_accuracy: 0.6774\n",
            "Epoch 3/15\n",
            "7/7 [==============================] - 2s 283ms/step - loss: 0.6558 - accuracy: 0.6276 - val_loss: 0.6074 - val_accuracy: 0.7661\n",
            "Epoch 4/15\n",
            "7/7 [==============================] - 2s 320ms/step - loss: 0.6042 - accuracy: 0.6939 - val_loss: 0.5512 - val_accuracy: 0.7419\n",
            "Epoch 5/15\n",
            "7/7 [==============================] - 3s 415ms/step - loss: 0.5759 - accuracy: 0.6990 - val_loss: 0.5303 - val_accuracy: 0.7016\n",
            "Epoch 6/15\n",
            "7/7 [==============================] - 2s 325ms/step - loss: 0.5414 - accuracy: 0.7296 - val_loss: 0.5490 - val_accuracy: 0.6855\n",
            "Epoch 7/15\n",
            "7/7 [==============================] - 3s 399ms/step - loss: 0.5711 - accuracy: 0.6786 - val_loss: 0.6457 - val_accuracy: 0.6774\n",
            "Epoch 8/15\n",
            "7/7 [==============================] - 2s 316ms/step - loss: 0.5384 - accuracy: 0.7449 - val_loss: 0.4926 - val_accuracy: 0.8226\n",
            "Epoch 9/15\n",
            "7/7 [==============================] - 2s 315ms/step - loss: 0.5069 - accuracy: 0.7398 - val_loss: 0.4638 - val_accuracy: 0.7823\n",
            "Epoch 10/15\n",
            "7/7 [==============================] - 3s 435ms/step - loss: 0.4406 - accuracy: 0.7908 - val_loss: 0.4512 - val_accuracy: 0.7984\n",
            "Epoch 11/15\n",
            "7/7 [==============================] - 2s 359ms/step - loss: 0.4349 - accuracy: 0.8010 - val_loss: 0.4049 - val_accuracy: 0.8306\n",
            "Epoch 12/15\n",
            "7/7 [==============================] - 2s 312ms/step - loss: 0.3734 - accuracy: 0.8418 - val_loss: 0.4292 - val_accuracy: 0.8226\n",
            "Epoch 13/15\n",
            "7/7 [==============================] - 2s 321ms/step - loss: 0.3603 - accuracy: 0.8418 - val_loss: 0.5168 - val_accuracy: 0.7742\n",
            "Epoch 14/15\n",
            "7/7 [==============================] - 3s 474ms/step - loss: 0.3913 - accuracy: 0.8061 - val_loss: 0.4796 - val_accuracy: 0.7823\n",
            "Epoch 15/15\n",
            "7/7 [==============================] - 2s 324ms/step - loss: 0.3935 - accuracy: 0.8214 - val_loss: 0.3652 - val_accuracy: 0.8306\n"
          ]
        },
        {
          "output_type": "execute_result",
          "data": {
            "text/plain": [
              "<keras.src.callbacks.History at 0x7f062c13ff40>"
            ]
          },
          "metadata": {},
          "execution_count": 16
        }
      ],
      "source": [
        "cnn.fit(x = training_set, validation_data = test_set, epochs = 15)"
      ]
    },
    {
      "cell_type": "markdown",
      "metadata": {
        "id": "U3PZasO0006Z"
      },
      "source": [
        "## Part 4 - Making a single prediction\n",
        "\n",
        "\n"
      ]
    },
    {
      "cell_type": "code",
      "execution_count": null,
      "metadata": {
        "colab": {
          "base_uri": "https://localhost:8080/"
        },
        "id": "gsSiWEJY1BPB",
        "outputId": "86b20949-1421-4e52-c164-4fbf9ca50e20"
      },
      "outputs": [
        {
          "output_type": "stream",
          "name": "stdout",
          "text": [
            "1/1 [==============================] - 0s 152ms/step\n"
          ]
        }
      ],
      "source": [
        "import numpy as np\n",
        "import matplotlib.pyplot as plt\n",
        "import matplotlib.image as mpimg\n",
        "from keras.preprocessing import image\n",
        "\n",
        "\n",
        "test_image = tf.keras.utils.load_img('/content/apple_Vs_Orange_DataSet/data_to_predict/apple.jpg',\n",
        "                            target_size = (64, 64))\n",
        "img = np.asarray(test_image)\n",
        "\n",
        "\n",
        "test_image = np.expand_dims(test_image, axis = 0)\n",
        "result = cnn.predict(test_image)\n",
        "training_set.class_indices\n",
        "\n",
        "if result[0][0] == 1:\n",
        "  prediction = 'I guess this must be Apple!!!'\n",
        "else:\n",
        "  prediction = 'I guess this must be Orange!!!'\n",
        "\n"
      ]
    },
    {
      "cell_type": "code",
      "execution_count": null,
      "metadata": {
        "id": "ED9KB3I54c1i",
        "colab": {
          "base_uri": "https://localhost:8080/",
          "height": 124
        },
        "outputId": "a5fe1d87-95cb-49bf-dd92-9f70183270ba"
      },
      "outputs": [
        {
          "output_type": "stream",
          "name": "stdout",
          "text": [
            "I guess this must be Apple!!!\n"
          ]
        },
        {
          "output_type": "execute_result",
          "data": {
            "text/plain": [
              "<matplotlib.image.AxesImage at 0x7f06114a4b20>"
            ]
          },
          "metadata": {},
          "execution_count": 18
        },
        {
          "output_type": "display_data",
          "data": {
            "text/plain": [
              "<Figure size 640x480 with 1 Axes>"
            ],
            "image/png": "[encoded data removed]"
          },
          "metadata": {}
        }
      ],
      "source": [
        "\n",
        "#imgPlot=plt.imshow(test_image.squeeze())\n",
        "\n",
        "print(prediction)\n",
        "plt.imshow(img)"
      ]
    }
  ],
  "metadata": {
    "accelerator": "GPU",
    "colab": {
      "provenance": [],
      "gpuType": "T4"
    },
    "kernelspec": {
      "display_name": "Python 3",
      "name": "python3"
    }
  },
  "nbformat": 4,
  "nbformat_minor": 0
}