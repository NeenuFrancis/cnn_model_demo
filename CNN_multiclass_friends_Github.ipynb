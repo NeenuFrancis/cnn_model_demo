{
  "cells": [
    {
      "cell_type": "markdown",
      "metadata": {
        "id": "3DR-eO17geWu"
      },
      "source": [
        "# Convolutional Neural Network\n",
        "\n",
        "\n"
      ]
    },
    {
      "cell_type": "code",
      "execution_count": null,
      "metadata": {
        "colab": {
          "base_uri": "https://localhost:8080/"
        },
        "id": "r6U6sqKu7Hfe",
        "outputId": "8613a98f-4f5e-4cde-c787-18ab2281b831"
      },
      "outputs": [
        {
          "output_type": "stream",
          "name": "stdout",
          "text": [
            "Cloning into 'friends_multiclass_CNN'...\n",
            "remote: Enumerating objects: 176, done.\u001b[K\n",
            "remote: Counting objects: 100% (33/33), done.\u001b[K\n",
            "remote: Compressing objects: 100% (33/33), done.\u001b[K\n",
            "remote: Total 176 (delta 1), reused 0 (delta 0), pack-reused 143\u001b[K\n",
            "Receiving objects: 100% (176/176), 2.82 MiB | 13.56 MiB/s, done.\n",
            "Resolving deltas: 100% (16/16), done.\n"
          ]
        }
      ],
      "source": [
        "!git clone \"https://github.com/NeenuFrancis/friends_multiclass_CNN.git\""
      ]
    },
    {
      "cell_type": "code",
      "execution_count": null,
      "metadata": {
        "id": "rkIw46LPeGAc"
      },
      "outputs": [],
      "source": [
        "\n",
        "#!git clone https://github.com/NeenuFrancis/friends_multiclass_CNN\n",
        "#!rm -rf /content/friends_multiclass_CNN"
      ]
    },
    {
      "cell_type": "markdown",
      "metadata": {
        "id": "EMefrVPCg-60"
      },
      "source": [
        "### Importing the libraries"
      ]
    },
    {
      "cell_type": "code",
      "execution_count": null,
      "metadata": {
        "id": "sCV30xyVhFbE"
      },
      "outputs": [],
      "source": [
        "import tensorflow as tf\n",
        "from keras.preprocessing.image import ImageDataGenerator\n"
      ]
    },
    {
      "cell_type": "code",
      "execution_count": null,
      "metadata": {
        "colab": {
          "base_uri": "https://localhost:8080/",
          "height": 35
        },
        "id": "FIleuCAjoFD8",
        "outputId": "ea7ab7e7-f527-4ad0-cd3a-a239e3f1115a"
      },
      "outputs": [
        {
          "output_type": "execute_result",
          "data": {
            "text/plain": [
              "'2.14.0'"
            ],
            "application/vnd.google.colaboratory.intrinsic+json": {
              "type": "string"
            }
          },
          "metadata": {},
          "execution_count": 4
        }
      ],
      "source": [
        "tf.__version__"
      ]
    },
    {
      "cell_type": "markdown",
      "source": [
        "# **Part 1 - Data Preprocessing**\n",
        "\n"
      ],
      "metadata": {
        "id": "Go-LCQvzt56X"
      }
    },
    {
      "cell_type": "markdown",
      "source": [
        "### Preprocessing the Training set"
      ],
      "metadata": {
        "id": "_nN0vlOTvHLn"
      }
    },
    {
      "cell_type": "code",
      "source": [
        "import pandas as pd"
      ],
      "metadata": {
        "id": "YVHOAkIBQwT2"
      },
      "execution_count": null,
      "outputs": []
    },
    {
      "cell_type": "code",
      "source": [
        "from keras.preprocessing import image\n",
        "#Creating an object of ImageDataGenerator\n",
        "train_datagen = ImageDataGenerator(rescale = 1./255,\n",
        "                                   shear_range = 0.2,\n",
        "                                   zoom_range = 0.2,\n",
        "                                   horizontal_flip = True,\n",
        "                                   validation_split=0.1)\n",
        "\n",
        "#Generating batches of Augmented data\n",
        "training_set = train_datagen.flow_from_directory('/content/friends_multiclass_CNN/Data/train',\n",
        "                                                 target_size = (64, 64),\n",
        "                                                 batch_size = 32,\n",
        "                                                 class_mode = 'categorical'\n",
        "                                                 )"
      ],
      "metadata": {
        "colab": {
          "base_uri": "https://localhost:8080/"
        },
        "id": "5K8vBUFSt-sG",
        "outputId": "d178c6aa-0f72-4a96-e934-c09db34c3de5"
      },
      "execution_count": null,
      "outputs": [
        {
          "output_type": "stream",
          "name": "stdout",
          "text": [
            "Found 45 images belonging to 5 classes.\n"
          ]
        }
      ]
    },
    {
      "cell_type": "markdown",
      "source": [
        "### Preprocessing the Test set"
      ],
      "metadata": {
        "id": "-ikhQLjsvT8u"
      }
    },
    {
      "cell_type": "code",
      "source": [
        "test_datagen = ImageDataGenerator(rescale = 1./255,validation_split=0.1)\n",
        "\n",
        "test_set = test_datagen.flow_from_directory('/content/friends_multiclass_CNN/Data/Test',\n",
        "                                             target_size = (64, 64),\n",
        "                                                 batch_size = 32,\n",
        "                                                 class_mode = 'categorical'\n",
        "                                            )\n"
      ],
      "metadata": {
        "colab": {
          "base_uri": "https://localhost:8080/"
        },
        "id": "2c_CryLkvS1H",
        "outputId": "a6d85120-d1f6-41dc-a416-7400ba7a7db9"
      },
      "execution_count": null,
      "outputs": [
        {
          "output_type": "stream",
          "name": "stdout",
          "text": [
            "Found 17 images belonging to 5 classes.\n"
          ]
        }
      ]
    },
    {
      "cell_type": "markdown",
      "source": [
        "# **Part 2 - Building the CNN**\n",
        "\n",
        "\n",
        "\n"
      ],
      "metadata": {
        "id": "K56vilF6xdcn"
      }
    },
    {
      "cell_type": "markdown",
      "source": [
        "### Initialising the CNN"
      ],
      "metadata": {
        "id": "lxc2uA8Gx1Oh"
      }
    },
    {
      "cell_type": "code",
      "source": [
        "cnn = tf.keras.models.Sequential()"
      ],
      "metadata": {
        "id": "7wuj966mx2sB"
      },
      "execution_count": null,
      "outputs": []
    },
    {
      "cell_type": "markdown",
      "source": [
        "### Step 1 - Convolution"
      ],
      "metadata": {
        "id": "kqoFz1J6yDB1"
      }
    },
    {
      "cell_type": "code",
      "source": [
        "cnn.add(tf.keras.layers.Conv2D(filters=32, kernel_size=3, activation='relu',\n",
        "                               input_shape=[64, 64, 3]))\n"
      ],
      "metadata": {
        "id": "YW2xKjlSyD29"
      },
      "execution_count": null,
      "outputs": []
    },
    {
      "cell_type": "markdown",
      "source": [
        "### Step 2 - Pooling"
      ],
      "metadata": {
        "id": "aQqI04ekyI99"
      }
    },
    {
      "cell_type": "code",
      "source": [
        "cnn.add(tf.keras.layers.MaxPool2D(pool_size=2, strides=2))"
      ],
      "metadata": {
        "id": "jt4KfyrvyKOW"
      },
      "execution_count": null,
      "outputs": []
    },
    {
      "cell_type": "markdown",
      "source": [
        "### Adding a second convolutional layer"
      ],
      "metadata": {
        "id": "G1AJMfiayQkW"
      }
    },
    {
      "cell_type": "code",
      "source": [
        "cnn.add(tf.keras.layers.Conv2D(filters=32, kernel_size=3, activation='relu'))\n",
        "cnn.add(tf.keras.layers.MaxPool2D(pool_size=2, strides=2))"
      ],
      "metadata": {
        "id": "NWwL4UtvySl-"
      },
      "execution_count": null,
      "outputs": []
    },
    {
      "cell_type": "markdown",
      "source": [
        "### Step 3 - Flattening"
      ],
      "metadata": {
        "id": "T8LUay2eyX2V"
      }
    },
    {
      "cell_type": "code",
      "source": [
        "cnn.add(tf.keras.layers.Flatten())"
      ],
      "metadata": {
        "id": "Rt6DoMidyYtM"
      },
      "execution_count": null,
      "outputs": []
    },
    {
      "cell_type": "markdown",
      "source": [
        "### Step 4 - Full Connection"
      ],
      "metadata": {
        "id": "QV4ofYcYyezd"
      }
    },
    {
      "cell_type": "code",
      "source": [
        "cnn.add(tf.keras.layers.Dense(units=128, activation='relu'))"
      ],
      "metadata": {
        "id": "bSTx2oViybKF"
      },
      "execution_count": null,
      "outputs": []
    },
    {
      "cell_type": "markdown",
      "source": [
        "### Step 5 - Output Layer"
      ],
      "metadata": {
        "id": "1cRM8YV_ylsl"
      }
    },
    {
      "cell_type": "code",
      "source": [
        "cnn.add(tf.keras.layers.Dense(units=5, activation='softmax'))"
      ],
      "metadata": {
        "id": "FFLwj12FymeN"
      },
      "execution_count": null,
      "outputs": []
    },
    {
      "cell_type": "markdown",
      "source": [
        "# **Part 3 - Training the CNN**"
      ],
      "metadata": {
        "id": "kHBcsTSSyrcl"
      }
    },
    {
      "cell_type": "markdown",
      "source": [
        "### Compiling the CNN"
      ],
      "metadata": {
        "id": "2BbMojc4ywzd"
      }
    },
    {
      "cell_type": "code",
      "source": [
        "cnn.compile(optimizer = 'adam', loss = 'categorical_crossentropy', metrics = ['accuracy'])\n"
      ],
      "metadata": {
        "id": "NBZ4ugEayxuf"
      },
      "execution_count": null,
      "outputs": []
    },
    {
      "cell_type": "markdown",
      "source": [
        "### Training the CNN on the Training set and evaluating it on the Test set"
      ],
      "metadata": {
        "id": "utSxqtJay38m"
      }
    },
    {
      "cell_type": "code",
      "source": [
        "cnn.fit(x = training_set, validation_data = test_set, epochs = 20)"
      ],
      "metadata": {
        "colab": {
          "base_uri": "https://localhost:8080/"
        },
        "id": "ZKvF7gO33zqO",
        "outputId": "3496bb72-8405-495b-e757-5373c5791e85"
      },
      "execution_count": null,
      "outputs": [
        {
          "output_type": "stream",
          "name": "stdout",
          "text": [
            "Epoch 1/20\n",
            "2/2 [==============================] - 14s 1s/step - loss: 1.7319 - accuracy: 0.2222 - val_loss: 1.2417 - val_accuracy: 0.4706\n",
            "Epoch 2/20\n",
            "2/2 [==============================] - 0s 237ms/step - loss: 1.3120 - accuracy: 0.2889 - val_loss: 1.3090 - val_accuracy: 0.3529\n",
            "Epoch 3/20\n",
            "2/2 [==============================] - 0s 359ms/step - loss: 1.2338 - accuracy: 0.3111 - val_loss: 1.0847 - val_accuracy: 0.6471\n",
            "Epoch 4/20\n",
            "2/2 [==============================] - 0s 237ms/step - loss: 1.0982 - accuracy: 0.5778 - val_loss: 0.9126 - val_accuracy: 0.6471\n",
            "Epoch 5/20\n",
            "2/2 [==============================] - 0s 244ms/step - loss: 0.9836 - accuracy: 0.6000 - val_loss: 0.7879 - val_accuracy: 0.6471\n",
            "Epoch 6/20\n",
            "2/2 [==============================] - 0s 248ms/step - loss: 0.7831 - accuracy: 0.6000 - val_loss: 0.7522 - val_accuracy: 0.7647\n",
            "Epoch 7/20\n",
            "2/2 [==============================] - 0s 224ms/step - loss: 0.7506 - accuracy: 0.8000 - val_loss: 0.6501 - val_accuracy: 0.7647\n",
            "Epoch 8/20\n",
            "2/2 [==============================] - 1s 243ms/step - loss: 0.6165 - accuracy: 0.8222 - val_loss: 0.4640 - val_accuracy: 0.8235\n",
            "Epoch 9/20\n",
            "2/2 [==============================] - 0s 231ms/step - loss: 0.5232 - accuracy: 0.8222 - val_loss: 0.4043 - val_accuracy: 1.0000\n",
            "Epoch 10/20\n",
            "2/2 [==============================] - 0s 348ms/step - loss: 0.4402 - accuracy: 0.8667 - val_loss: 0.3423 - val_accuracy: 0.8235\n",
            "Epoch 11/20\n",
            "2/2 [==============================] - 0s 231ms/step - loss: 0.3158 - accuracy: 0.8889 - val_loss: 0.2431 - val_accuracy: 1.0000\n",
            "Epoch 12/20\n",
            "2/2 [==============================] - 0s 345ms/step - loss: 0.2305 - accuracy: 1.0000 - val_loss: 0.2101 - val_accuracy: 1.0000\n",
            "Epoch 13/20\n",
            "2/2 [==============================] - 1s 397ms/step - loss: 0.1689 - accuracy: 1.0000 - val_loss: 0.1929 - val_accuracy: 1.0000\n",
            "Epoch 14/20\n",
            "2/2 [==============================] - 0s 346ms/step - loss: 0.1364 - accuracy: 1.0000 - val_loss: 0.1227 - val_accuracy: 1.0000\n",
            "Epoch 15/20\n",
            "2/2 [==============================] - 0s 230ms/step - loss: 0.1046 - accuracy: 1.0000 - val_loss: 0.0962 - val_accuracy: 1.0000\n",
            "Epoch 16/20\n",
            "2/2 [==============================] - 0s 357ms/step - loss: 0.0826 - accuracy: 1.0000 - val_loss: 0.0839 - val_accuracy: 1.0000\n",
            "Epoch 17/20\n",
            "2/2 [==============================] - 1s 374ms/step - loss: 0.0626 - accuracy: 1.0000 - val_loss: 0.0988 - val_accuracy: 1.0000\n",
            "Epoch 18/20\n",
            "2/2 [==============================] - 1s 593ms/step - loss: 0.0735 - accuracy: 0.9778 - val_loss: 0.0746 - val_accuracy: 1.0000\n",
            "Epoch 19/20\n",
            "2/2 [==============================] - 1s 471ms/step - loss: 0.0261 - accuracy: 1.0000 - val_loss: 0.0346 - val_accuracy: 1.0000\n",
            "Epoch 20/20\n",
            "2/2 [==============================] - 0s 376ms/step - loss: 0.0284 - accuracy: 1.0000 - val_loss: 0.0404 - val_accuracy: 1.0000\n"
          ]
        },
        {
          "output_type": "execute_result",
          "data": {
            "text/plain": [
              "<keras.src.callbacks.History at 0x7f3cb3f391b0>"
            ]
          },
          "metadata": {},
          "execution_count": 16
        }
      ]
    },
    {
      "cell_type": "code",
      "source": [
        "\n",
        "import numpy as np\n",
        "from keras.preprocessing import image\n",
        "\n",
        "test_image = tf.keras.utils.load_img('/content/friends_multiclass_CNN/Predict_Image/WhatsApp Image 2023-11-01 at 8.58.33 PM.jpeg',\n",
        "                                     target_size = (64, 64))\n",
        "#test_image = tf.keras.utils.load_img(test_image)\n",
        "im=test_image\n",
        "\n",
        "test_image = np.expand_dims(test_image, axis = 0)\n",
        "\n",
        "result = cnn.predict(test_image)\n",
        "\n",
        "training_set.class_indices\n",
        "\n",
        "\n",
        "label=[\"Benson\", \"Leena\", \"Michelle\", \"Neenu\",\"Sam\"]\n",
        "for i in label:\n",
        "    if result[0][label.index(i)]==1:\n",
        "         break\n",
        "\n",
        "\n",
        "\n",
        "prediction=i\n",
        "\n",
        "\n",
        "im.show()\n"
      ],
      "metadata": {
        "colab": {
          "base_uri": "https://localhost:8080/"
        },
        "id": "NMwwIWduEx18",
        "outputId": "be5892ce-6214-4388-d4df-0d9608ba54f2"
      },
      "execution_count": null,
      "outputs": [
        {
          "output_type": "stream",
          "name": "stdout",
          "text": [
            "1/1 [==============================] - 0s 151ms/step\n"
          ]
        }
      ]
    },
    {
      "cell_type": "code",
      "source": [
        "print(prediction)\n",
        "\n",
        "display(im)\n"
      ],
      "metadata": {
        "colab": {
          "base_uri": "https://localhost:8080/",
          "height": 98
        },
        "id": "eg3aAg3kUGo0",
        "outputId": "7df56297-8402-4b65-b318-12c2b02867b0"
      },
      "execution_count": null,
      "outputs": [
        {
          "output_type": "stream",
          "name": "stdout",
          "text": [
            "Michelle\n"
          ]
        },
        {
          "output_type": "display_data",
          "data": {
            "text/plain": [
              "<PIL.Image.Image image mode=RGB size=64x64>"
            ],
            "image/png": "[encoded data removed]"
          },
          "metadata": {}
        }
      ]
    }
  ],
  "metadata": {
    "accelerator": "GPU",
    "colab": {
      "provenance": [],
      "gpuType": "T4"
    },
    "kernelspec": {
      "display_name": "Python 3",
      "name": "python3"
    }
  },
  "nbformat": 4,
  "nbformat_minor": 0
}